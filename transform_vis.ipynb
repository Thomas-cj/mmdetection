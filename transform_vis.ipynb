{
 "cells": [
  {
   "cell_type": "code",
   "execution_count": 125,
   "id": "26bb00a0",
   "metadata": {},
   "outputs": [],
   "source": [
    "import random\n",
    "from mmcv.transforms import BaseTransform\n",
    "from mmdet.registry import TRANSFORMS\n",
    "from mmcv.image import adjust_hue\n",
    "from mmcv import imshow, imread, imwrite, adjust_brightness, imflip\n",
    "\n"
   ]
  },
  {
   "cell_type": "code",
   "execution_count": 106,
   "id": "ad57d8bb",
   "metadata": {},
   "outputs": [],
   "source": [
    "# Create a custom colour transform inheriting from the BaseTransform class\n",
    "class CustomHue(BaseTransform):\n",
    "    \"\"\"ROtates the hue channel 45 degrees\n",
    "\n",
    "    Args:\n",
    "        p (float): Probability of shifts.\n",
    "\n",
    "\n",
    "    \"\"\"\n",
    "\n",
    "    def __init__(self, prob):\n",
    "        self.prob = prob\n",
    "   \n",
    "    \n",
    "    def transform(self, results):\n",
    "        if random.random() > self.prob:\n",
    "            img = results['img']\n",
    "            value = random.uniform(0, 0.125)\n",
    "            results['img'] = adjust_hue(img, value).astype(img.dtype)\n",
    "        \n",
    "        return results\n"
   ]
  },
  {
   "cell_type": "code",
   "execution_count": null,
   "id": "3ccb6ef1",
   "metadata": {},
   "outputs": [
    {
     "ename": "AttributeError",
     "evalue": "'CustomHue' object has no attribute 'transform_img_br'",
     "output_type": "error",
     "traceback": [
      "\u001b[1;31m---------------------------------------------------------------------------\u001b[0m",
      "\u001b[1;31mAttributeError\u001b[0m                            Traceback (most recent call last)",
      "Cell \u001b[1;32mIn[110], line 5\u001b[0m\n\u001b[0;32m      3\u001b[0m results \u001b[38;5;241m=\u001b[39m {\u001b[38;5;124m\"\u001b[39m\u001b[38;5;124mimg\u001b[39m\u001b[38;5;124m\"\u001b[39m: imread(img_path)}\n\u001b[0;32m      4\u001b[0m trans\u001b[38;5;241m=\u001b[39m CustomHue(prob\u001b[38;5;241m=\u001b[39m\u001b[38;5;241m1.0\u001b[39m)\n\u001b[1;32m----> 5\u001b[0m img \u001b[38;5;241m=\u001b[39m \u001b[43mtrans\u001b[49m\u001b[38;5;241;43m.\u001b[39;49m\u001b[43mtransform_img_br\u001b[49m(results)\n\u001b[0;32m      8\u001b[0m imshow(img[\u001b[38;5;124m\"\u001b[39m\u001b[38;5;124mimg\u001b[39m\u001b[38;5;124m\"\u001b[39m])\n\u001b[0;32m      9\u001b[0m \u001b[38;5;66;03m#imwrite(img[\"img\"], \"outputs/transform_graphics/brightness.jpg\")\u001b[39;00m\n",
      "\u001b[1;31mAttributeError\u001b[0m: 'CustomHue' object has no attribute 'transform_img_br'"
     ]
    }
   ],
   "source": [
    "img_path = 'datasets/UVDK_test/5351563430.jpg'\n",
    "\n",
    "results = {\"img\": imread(img_path)}\n",
    "trans= CustomHue(prob=1.0)\n",
    "img = trans.transform(results)\n",
    "\n",
    "\n",
    "imshow(img[\"img\"])\n",
    "imwrite(img[\"img\"], \"outputs/transform_graphics/hue.jpg\")"
   ]
  },
  {
   "cell_type": "code",
   "execution_count": null,
   "id": "47f256d1",
   "metadata": {},
   "outputs": [],
   "source": [
    "# Colour transform\n",
    "\n",
    "def _transform_img(self, results: dict, mag: float) -> None:\n",
    "        \"\"\"Apply Color transformation to image.\"\"\"\n",
    "        # NOTE defaultly the image should be BGR format\n",
    "        img = results['img']\n",
    "        results['img'] = mmcv.adjust_color(img, mag).astype(img.dtype)"
   ]
  },
  {
   "cell_type": "code",
   "execution_count": 123,
   "id": "bc12f61d",
   "metadata": {},
   "outputs": [],
   "source": [
    "# brightness transform\n",
    "def transform_img_br(results):\n",
    "        \"\"\"Adjust the brightness of image.\"\"\"\n",
    "        img = results['img']\n",
    "        results['img'] = adjust_brightness(img, 0.5).astype(img.dtype)\n",
    "        return results"
   ]
  },
  {
   "cell_type": "code",
   "execution_count": 124,
   "id": "1f1d34fc",
   "metadata": {},
   "outputs": [
    {
     "data": {
      "text/plain": [
       "True"
      ]
     },
     "execution_count": 124,
     "metadata": {},
     "output_type": "execute_result"
    }
   ],
   "source": [
    "img_path = 'datasets/UVDK_test/5351563430.jpg'\n",
    "results = {\"img\": imread(img_path)}\n",
    "img = transform_img_br(results)\n",
    "imshow(img[\"img\"])\n",
    "imwrite(img[\"img\"], \"outputs/transform_graphics/brightness.jpg\")\n"
   ]
  },
  {
   "cell_type": "code",
   "execution_count": 126,
   "id": "31683f80",
   "metadata": {},
   "outputs": [],
   "source": [
    "# Image flip transform\n",
    "def img_flip_h(results):\n",
    "    img = results[\"img\"]\n",
    "    results[\"img\"] = imflip(img,\"horizontal\")\n",
    "    return results\n",
    "\n",
    "def img_flip_v(results):\n",
    "    img = results[\"img\"]\n",
    "    results[\"img\"] = imflip(img,\"vertical\")\n",
    "    return results\n"
   ]
  },
  {
   "cell_type": "code",
   "execution_count": 127,
   "id": "aad43a00",
   "metadata": {},
   "outputs": [
    {
     "data": {
      "text/plain": [
       "True"
      ]
     },
     "execution_count": 127,
     "metadata": {},
     "output_type": "execute_result"
    }
   ],
   "source": [
    "img_path = 'datasets/UVDK_test/5351563430.jpg'\n",
    "results = {\"img\": imread(img_path)}\n",
    "img = img_flip_h(results)\n",
    "imshow(img[\"img\"])\n",
    "imwrite(img[\"img\"], \"outputs/transform_graphics/horizontal.jpg\")"
   ]
  },
  {
   "cell_type": "code",
   "execution_count": 128,
   "id": "989d869e",
   "metadata": {},
   "outputs": [
    {
     "data": {
      "text/plain": [
       "True"
      ]
     },
     "execution_count": 128,
     "metadata": {},
     "output_type": "execute_result"
    }
   ],
   "source": [
    "img_path = 'datasets/UVDK_test/5351563430.jpg'\n",
    "results = {\"img\": imread(img_path)}\n",
    "img = img_flip_v(results)\n",
    "imshow(img[\"img\"])\n",
    "imwrite(img[\"img\"], \"outputs/transform_graphics/vertical.jpg\")"
   ]
  },
  {
   "cell_type": "code",
   "execution_count": null,
   "id": "0cdb8e1e",
   "metadata": {},
   "outputs": [],
   "source": []
  }
 ],
 "metadata": {
  "kernelspec": {
   "display_name": "mmdet",
   "language": "python",
   "name": "python3"
  },
  "language_info": {
   "codemirror_mode": {
    "name": "ipython",
    "version": 3
   },
   "file_extension": ".py",
   "mimetype": "text/x-python",
   "name": "python",
   "nbconvert_exporter": "python",
   "pygments_lexer": "ipython3",
   "version": "3.8.20"
  }
 },
 "nbformat": 4,
 "nbformat_minor": 5
}
