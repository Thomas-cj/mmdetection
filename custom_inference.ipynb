{
 "cells": [
  {
   "cell_type": "code",
   "execution_count": null,
   "id": "66f7ee38",
   "metadata": {},
   "outputs": [],
   "source": [
    "from mmdet.apis import init_detector, inference_detector\n",
    "import mmcv\n",
    "import cv2\n",
    "import time\n",
    "from mmengine.utils import track_iter_progress\n",
    "import numpy as np"
   ]
  },
  {
   "cell_type": "code",
   "execution_count": null,
   "id": "26fb242a",
   "metadata": {},
   "outputs": [],
   "source": [
    "checkpoint = r\"work_dirs\\faster-rcnn_r50-tnr-pre_fpn_1x_coco_full_custom_br_hue\\best_coco_Swimmer_HBB_precision_epoch_10.pth\"\n",
    "config = r\"custom_configs\\faster_rcnn\\faster-rcnn_r50-tnr-pre_fpn_1x_coco_full_custom_br_hue.py\"\n",
    "video_path = r\"C:\\Users\\tchar\\Documents\\GitHub\\diving_analysis_bsc\\flash_detection\\PB_#3_5.avi\"\n",
    "name = \"ouputs/faster_rcnn/\"y"
   ]
  },
  {
   "cell_type": "code",
   "execution_count": null,
   "id": "b2c0f5b3",
   "metadata": {},
   "outputs": [],
   "source": [
    "def extract_frame_debug(config, checkpoint, video_path, name):\n",
    "    model = init_detector(config, checkpoint, device=\"cpu\")\n",
    "    cap = mmcv.VideoReader(video_path)\n",
    "    save_name = f\"ouputs/faster_rcnn/{name}\"\n",
    "    fourcc = cv2.VideoWriter_fourcc(*'mp4v')\n",
    "    out = cv2.VideoWriter(\n",
    "    f\"outputs/{save_name}.mp4\", fourcc, cap.fps,\n",
    "    (cap.width, cap.height)\n",
    "    )\n",
    "    frame_count = 0 # To count total frames.\n",
    "    total_fps = 0 # To get the final frames per second.\n",
    "    for frame in track_iter_progress((cap, len(cap))):\n",
    "        frame_count += 1\n",
    "        start_time = time.time()# Forward pass start time.\n",
    "        result = inference_detector(model, frame)\n",
    "        end_time = time.time() # Forward pass end time.\n",
    "        # Get the fps.\n",
    "        fps = 1 / (end_time - start_time)\n",
    "        # Add fps to total fps.\n",
    "        total_fps += fps\n",
    "        #results[frame_count] = result\n",
    "        if result.pred_instances and result.pred_instances.scores is not None and len(result.pred_instances.scores) > 0 and max(result.pred_instances.scores) > 0.8:\n",
    "            # Get the index of the highest score\n",
    "            max_score_idx = np.argmax(result.pred_instances.scores)\n",
    "\n",
    "            # Get the bounding box corresponding to the highest score\n",
    "            highest_score_bbox = result.pred_instances.bboxes[max_score_idx]\n",
    "\n",
    "            # Extract x coordinate (rightmost x-coordinate)\n",
    "            x = highest_score_bbox[0]\n",
    "\n",
    "            threshold_x = 1024\n",
    "\n",
    "            print(f\"Bounding box with highest score: {highest_score_bbox.tolist()}\")\n",
    "            print(f\"The x2 coordinate of the highest scoring bounding box is: {x.item()}\")\n",
    "\n",
    "            if x <= threshold_x:\n",
    "                print(f\"The x-coordinate ({x.item():.2f}) is less than or equal to the threshold ({threshold_x}).\")\n",
    "                cv2.imwrite(f\"outputs/faster_rcnn/frame{frame_count}.jpg\", frame)\n",
    "                return print(frame_count-1)\n",
    "                # return frame_count\n",
    "            else:\n",
    "                print(f\"The x-coordinate ({x.item():.2f}) is greater than the threshold ({threshold_x}).\")\n",
    "        else:\n",
    "            print(\"No predicted instances with scores found.\")\n",
    "\n",
    "\n",
    "    out.release()\n",
    "    avg_fps = total_fps / frame_count\n",
    "    print(f\"Average FPS: {avg_fps:.3f}\")"
   ]
  },
  {
   "cell_type": "code",
   "execution_count": null,
   "id": "ca7fcb2f",
   "metadata": {},
   "outputs": [],
   "source": [
    "def extract_frame(config, checkpoint, video_path, save_path=False):\n",
    "    model = init_detector(config, checkpoint, device=\"cpu\")\n",
    "    cap = mmcv.VideoReader(video_path)\n",
    "    frame_count = 0\n",
    "    for frame in cap:\n",
    "        frame_count += 1\n",
    "        result = inference_detector(model, frame)\n",
    "        if result.pred_instances and result.pred_instances.scores is not None and len(result.pred_instances.scores) > 0 and max(result.pred_instances.scores) > 0.8:\n",
    "            # Get the index of the highest score\n",
    "            max_score_idx = np.argmax(result.pred_instances.scores)\n",
    "\n",
    "            # Get the bounding box corresponding to the highest score\n",
    "            highest_score_bbox = result.pred_instances.bboxes[max_score_idx]\n",
    "\n",
    "            # Extract x coordinate (rightmost x-coordinate)\n",
    "            x = highest_score_bbox[0]\n",
    "\n",
    "            threshold_x = 1024\n",
    "\n",
    "            if x <= threshold_x:\n",
    "                if save_path:\n",
    "                    cv2.imwrite(f\"{save_path}/frame_{frame_count}.jpg\", frame)´\n",
    "                cap.release()    \n",
    "                return frame_count\n",
    "        \n",
    "\n"
   ]
  },
  {
   "cell_type": "code",
   "execution_count": 56,
   "id": "7167a377",
   "metadata": {},
   "outputs": [
    {
     "name": "stdout",
     "output_type": "stream",
     "text": [
      "Loads checkpoint by local backend from path: work_dirs\\faster-rcnn_r50-tnr-pre_fpn_1x_coco_full_custom_br_hue\\best_coco_Swimmer_HBB_precision_epoch_10.pth\n"
     ]
    },
    {
     "name": "stderr",
     "output_type": "stream",
     "text": [
      "c:\\Users\\tchar\\miniconda3\\envs\\mmdet\\lib\\site-packages\\mmengine\\runner\\checkpoint.py:347: FutureWarning: You are using `torch.load` with `weights_only=False` (the current default value), which uses the default pickle module implicitly. It is possible to construct malicious pickle data which will execute arbitrary code during unpickling (See https://github.com/pytorch/pytorch/blob/main/SECURITY.md#untrusted-models for more details). In a future release, the default value for `weights_only` will be flipped to `True`. This limits the functions that could be executed during unpickling. Arbitrary objects will no longer be allowed to be loaded via this mode unless they are explicitly allowlisted by the user via `torch.serialization.add_safe_globals`. We recommend you start setting `weights_only=True` for any use case where you don't have full control of the loaded file. Please open an issue on GitHub for any issues related to this experimental feature.\n",
      "  checkpoint = torch.load(filename, map_location=map_location)\n"
     ]
    },
    {
     "name": "stdout",
     "output_type": "stream",
     "text": [
      "154\n"
     ]
    }
   ],
   "source": [
    "extract_frame(config, checkpoint, video_path, name)"
   ]
  },
  {
   "cell_type": "code",
   "execution_count": 47,
   "id": "87d41d91",
   "metadata": {},
   "outputs": [],
   "source": [
    "cv2.destroyAllWindows()"
   ]
  },
  {
   "cell_type": "code",
   "execution_count": null,
   "id": "8700b9ff",
   "metadata": {},
   "outputs": [],
   "source": []
  }
 ],
 "metadata": {
  "kernelspec": {
   "display_name": "mmdet",
   "language": "python",
   "name": "python3"
  },
  "language_info": {
   "codemirror_mode": {
    "name": "ipython",
    "version": 3
   },
   "file_extension": ".py",
   "mimetype": "text/x-python",
   "name": "python",
   "nbconvert_exporter": "python",
   "pygments_lexer": "ipython3",
   "version": "3.8.20"
  }
 },
 "nbformat": 4,
 "nbformat_minor": 5
}
