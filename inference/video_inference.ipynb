{
 "cells": [
  {
   "cell_type": "code",
   "execution_count": null,
   "id": "8b05034d",
   "metadata": {
    "vscode": {
     "languageId": "plaintext"
    }
   },
   "outputs": [],
   "source": [
    "import cv2\n",
    "import supervision as sv\n",
    "from mmdet.apis import init_detector, inference_detector\n",
    "\n",
    "image = cv2.imread(\"SOURCE_IMAGE_PATH\")\n",
    "model = init_detector(\"CONFIG_PATH\", \"WEIGHTS_PATH\", device=\"DEVICE\")"
   ]
  },
  {
   "cell_type": "code",
   "execution_count": null,
   "id": "8c189274",
   "metadata": {
    "vscode": {
     "languageId": "plaintext"
    }
   },
   "outputs": [],
   "source": [
    "def process_frame(frame: np.ndarray, _) -> np.ndarray:\n",
    "    result = inference_detector(model, frame)\n",
    "\t\tdetections = sv.Detections.from_mmdetection(result)\n",
    "\n",
    "    box_annotator = sv.BoxAnnotator(thickness=4, text_thickness=4, text_scale=2)\n",
    "\n",
    "    labels = [f\"{model.names[class_id]} {confidence:0.2f}\" for _, _, confidence, class_id, _ in detections]\n",
    "    frame = box_annotator.annotate(scene=frame, detections=detections, labels=labels)\n",
    "\n",
    "    return frame\n",
    "\n",
    "sv.process_video(source_path=VIDEO_PATH, target_path=f\"result.mp4\", callback=process_frame)"
   ]
  },
  {
   "cell_type": "code",
   "execution_count": null,
   "id": "44159ab0",
   "metadata": {
    "vscode": {
     "languageId": "plaintext"
    }
   },
   "outputs": [],
   "source": [
    "sv.process_video(source_path=VIDEO_PATH, target_path=f\"result.mp4\", callback=process_frame)\n"
   ]
  }
 ],
 "metadata": {
  "language_info": {
   "name": "python"
  }
 },
 "nbformat": 4,
 "nbformat_minor": 5
}
